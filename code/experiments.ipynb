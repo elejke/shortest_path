{
 "cells": [
  {
   "cell_type": "code",
   "execution_count": 1,
   "metadata": {
    "collapsed": true
   },
   "outputs": [],
   "source": [
    "%matplotlib inline"
   ]
  },
  {
   "cell_type": "code",
   "execution_count": 3,
   "metadata": {
    "collapsed": false
   },
   "outputs": [],
   "source": [
    "import pandas as pd\n",
    "import numpy as np\n",
    "import matplotlib.pylab as plt\n",
    "import matplotlib.cm as mplcm\n",
    "import matplotlib.colors as colors\n",
    "from utils.embedding import lis, layers, data_prepare"
   ]
  },
  {
   "cell_type": "code",
   "execution_count": 4,
   "metadata": {
    "collapsed": true
   },
   "outputs": [],
   "source": [
    "#coordinates = pd.read_csv('../data/coordinates.csv', ';', header=None, decimal=',')\n",
    "#connections = pd.read_csv('../data/connect.csv', ';', header=None) - 1\n",
    "#chip_1 = coordinates[:40].drop([0, 1], axis=1)\n",
    "#chip_2 = coordinates[40:].drop([0, 1], axis=1)"
   ]
  },
  {
   "cell_type": "code",
   "execution_count": 5,
   "metadata": {
    "collapsed": true
   },
   "outputs": [],
   "source": [
    "chip_1, chip_2, connections = data_prepare()"
   ]
  },
  {
   "cell_type": "code",
   "execution_count": 6,
   "metadata": {
    "collapsed": false
   },
   "outputs": [],
   "source": [
    "#experiments\n",
    "plt.figure(figsize=[10, 10])\n",
    "for connect in connections.values:\n",
    "    if chip_2.values[connect[1]][0] < 14.5:\n",
    "        plt.plot([chip_1.values[connect[0]][0], \n",
    "                  chip_1.values[connect[0]][0], \n",
    "                  chip_2.values[connect[1]][0]], \n",
    "                 [chip_1.values[connect[0]][1], \n",
    "                  chip_2.values[connect[1]][1], \n",
    "                  chip_2.values[connect[1]][1]], '-o')\n",
    "    if chip_2.values[connect[1]][0] > 14.5:\n",
    "        plt.plot([chip_1.values[connect[0]][0], \n",
    "                  chip_1.values[connect[0]][0], \n",
    "                  chip_2.values[connect[1]][0]], \n",
    "                 [chip_1.values[connect[0]][1], \n",
    "                  chip_2.values[connect[1]][1]+0.3,\n",
    "                  chip_2.values[connect[1]][1]+0.3], '-o')"
   ]
  },
  {
   "cell_type": "code",
   "execution_count": 7,
   "metadata": {
    "collapsed": true
   },
   "outputs": [],
   "source": [
    "new_points, subsequences = layers(chip_1, chip_2, connections)"
   ]
  },
  {
   "cell_type": "code",
   "execution_count": 8,
   "metadata": {
    "collapsed": false
   },
   "outputs": [
    {
     "data": {
      "text/plain": [
       "<matplotlib.collections.PathCollection at 0x7f760de13fd0>"
      ]
     },
     "execution_count": 8,
     "metadata": {},
     "output_type": "execute_result"
    }
   ],
   "source": [
    "#experiments\n",
    "plt.figure(figsize=[10, 10])\n",
    "plt.xlim(0, 16)\n",
    "plt.scatter(np.array(new_points).T[0], np.array(new_points).T[1])"
   ]
  },
  {
   "cell_type": "code",
   "execution_count": 8,
   "metadata": {
    "collapsed": false
   },
   "outputs": [
    {
     "data": {
      "text/plain": [
       "576.0904186432706"
      ]
     },
     "execution_count": 8,
     "metadata": {},
     "output_type": "execute_result"
    }
   ],
   "source": [
    "#support computations\n",
    "min_distance = 0.0\n",
    "for i in connections.values:\n",
    "    min_distance += np.sqrt(np.sum((chip_1.values[i[0]-1]-chip_2.values[i[1]-1])**2))\n",
    "min_distance"
   ]
  },
  {
   "cell_type": "code",
   "execution_count": 27,
   "metadata": {
    "collapsed": false
   },
   "outputs": [
    {
     "data": {
      "image/png": "[encoded data removed]"
     },
     "metadata": {},
     "output_type": "display_data"
    }
   ],
   "source": [
    "#experiments\n",
    "NUM_COLORS = len(subsequences)\n",
    "cm = plt.get_cmap('nipy_spectral')\n",
    "cNorm  = colors.Normalize(vmin=0, vmax=NUM_COLORS-1)\n",
    "scalarMap = mplcm.ScalarMappable(norm=cNorm, cmap=cm)\n",
    "color_list = [scalarMap.to_rgba(i) for i in range(NUM_COLORS)]\n",
    "\n",
    "plt.figure(figsize=[10, 10])\n",
    "for num, subseq in enumerate(subsequences):\n",
    "    c = color_list[num]\n",
    "    for connect in connections.values[subseq]:\n",
    "        if chip_2.values[connect[1]][0] < 14.5:\n",
    "            plt.plot([chip_1.values[connect[0]][0], \n",
    "                      chip_1.values[connect[0]][0], \n",
    "                      chip_2.values[connect[1]][0]], \n",
    "                     [chip_1.values[connect[0]][1], \n",
    "                      chip_2.values[connect[1]][1], \n",
    "                      chip_2.values[connect[1]][1]], '-o', color=c)\n",
    "        if chip_2.values[connect[1]][0] > 14.5:\n",
    "            plt.plot([chip_1.values[connect[0]][0], \n",
    "                      chip_1.values[connect[0]][0], \n",
    "                      chip_2.values[connect[1]][0]], \n",
    "                     [chip_1.values[connect[0]][1], \n",
    "                      chip_2.values[connect[1]][1]+0.3,\n",
    "                      chip_2.values[connect[1]][1]+0.3], '-o', color=c)"
   ]
  },
  {
   "cell_type": "code",
   "execution_count": 11,
   "metadata": {
    "collapsed": false
   },
   "outputs": [
    {
     "data": {
      "text/plain": [
       "[[20, 21, 2, 25, 7, 28, 29, 32, 35, 16, 36],\n",
       " [24, 5, 27, 8, 9, 33, 15, 17, 18],\n",
       " [0, 22, 3, 4, 30],\n",
       " [1, 6, 26, 10, 11],\n",
       " [13, 14, 37, 38, 19],\n",
       " [31, 12],\n",
       " [34, 39],\n",
       " [23]]"
      ]
     },
     "execution_count": 11,
     "metadata": {},
     "output_type": "execute_result"
    }
   ],
   "source": [
    "subsequences"
   ]
  },
  {
   "cell_type": "code",
   "execution_count": null,
   "metadata": {
    "collapsed": true
   },
   "outputs": [],
   "source": []
  }
 ],
 "metadata": {
  "kernelspec": {
   "display_name": "Python 2",
   "language": "python",
   "name": "python2"
  },
  "language_info": {
   "codemirror_mode": {
    "name": "ipython",
    "version": 2
   },
   "file_extension": ".py",
   "mimetype": "text/x-python",
   "name": "python",
   "nbconvert_exporter": "python",
   "pygments_lexer": "ipython2",
   "version": "2.7.11"
  }
 },
 "nbformat": 4,
 "nbformat_minor": 0
}
