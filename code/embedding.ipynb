{
 "cells": [
  {
   "cell_type": "code",
   "execution_count": 1,
   "metadata": {
    "collapsed": false
   },
   "outputs": [],
   "source": [
    "%matplotlib inline"
   ]
  },
  {
   "cell_type": "code",
   "execution_count": 2,
   "metadata": {
    "collapsed": true
   },
   "outputs": [],
   "source": [
    "import numpy as np\n",
    "import pandas as pd"
   ]
  },
  {
   "cell_type": "code",
   "execution_count": 3,
   "metadata": {
    "collapsed": false
   },
   "outputs": [],
   "source": [
    "import matplotlib.pylab as plt\n",
    "import matplotlib.cm as mplcm\n",
    "import matplotlib.colors as colors\n",
    "from utils.embedding import *\n",
    "from utils.geometry import *\n",
    "from utils.constants import *\n",
    "from shapely.geometry import Point, LineString, Polygon, LinearRing"
   ]
  },
  {
   "cell_type": "code",
   "execution_count": 4,
   "metadata": {
    "collapsed": false
   },
   "outputs": [],
   "source": [
    "chip_1, chip_2, connections = data_prepare()"
   ]
  },
  {
   "cell_type": "code",
   "execution_count": 5,
   "metadata": {
    "collapsed": true
   },
   "outputs": [],
   "source": [
    "new_points, subsequences = layers(chip_1, chip_2, connections)"
   ]
  },
  {
   "cell_type": "code",
   "execution_count": 22,
   "metadata": {
    "collapsed": false
   },
   "outputs": [
    {
     "name": "stdout",
     "output_type": "stream",
     "text": [
      "0.1 0.1\n",
      "0.100287774721 0.1\n",
      "0.103359032924 0.1\n",
      "0.103359032924 0.1\n",
      "K =  4.99152385836\n",
      "L =  4.0\n",
      "V =  40.0\n",
      "S =  698.367785708\n",
      "mind =  0.1\n"
     ]
    }
   ],
   "source": [
    "subsequences_by_layers_1 = [[0, 1], [4, 7], [3, 6], [2, 5]]\n",
    "subsequences_by_layers_2 = [[0, 7], [1, 6], [2, 5], [3, None], [4, None]]\n",
    "K, L, V, S, mind, int_lines_list, ext_lines_list = \\\n",
    "        objective(connections, subsequences, subsequences_by_layers_1, chip_1, chip_2)\n",
    "print \"K = \", K\n",
    "print \"L = \", L\n",
    "print \"V = \", V\n",
    "print \"S = \", S\n",
    "print \"mind = \", mind"
   ]
  },
  {
   "cell_type": "code",
   "execution_count": 23,
   "metadata": {
    "collapsed": false
   },
   "outputs": [],
   "source": [
    "jump_coordinates, jump_lines = get_jumps(connections, subsequences[subsequences_by_layers_1[0][0]], \n",
    "                                         subsequences[subsequences_by_layers_1[0][1]], chip_1, chip_2, 1)"
   ]
  },
  {
   "cell_type": "code",
   "execution_count": 24,
   "metadata": {
    "collapsed": false,
    "scrolled": false
   },
   "outputs": [],
   "source": [
    "submit(int_lines_list, ext_lines_list, jump_lines, jump_coordinates)"
   ]
  },
  {
   "cell_type": "code",
   "execution_count": 102,
   "metadata": {
    "collapsed": false,
    "scrolled": true
   },
   "outputs": [
    {
     "data": {
      "text/plain": [
       "[array([[[  9.5  ,   0.   ],\n",
       "         [  9.5  ,   0.   ],\n",
       "         [  9.5  ,   0.507],\n",
       "         [ 13.885,   5.15 ],\n",
       "         [ 14.8  ,   5.15 ],\n",
       "         [ 14.8  ,   5.   ]],\n",
       " \n",
       "        [[  9.   ,   0.   ],\n",
       "         [  9.   ,   0.   ],\n",
       "         [  9.   ,   0.506],\n",
       "         [ 13.884,   5.75 ],\n",
       "         [ 14.8  ,   5.75 ],\n",
       "         [ 14.8  ,   5.6  ]],\n",
       " \n",
       "        [[  8.   ,   0.   ],\n",
       "         [  8.   ,   0.   ],\n",
       "         [  8.   ,   0.519],\n",
       "         [ 13.909,   6.05 ],\n",
       "         [ 14.   ,   6.05 ],\n",
       "         [ 14.   ,   6.2  ]],\n",
       " \n",
       "        [[  7.25 ,   0.5  ],\n",
       "         [  7.25 ,   0.5  ],\n",
       "         [  7.25 ,   0.5  ],\n",
       "         [ 13.881,   8.15 ],\n",
       "         [ 14.8  ,   8.15 ],\n",
       "         [ 14.8  ,   8.   ]],\n",
       " \n",
       "        [[  7.   ,   0.   ],\n",
       "         [  7.   ,   0.   ],\n",
       "         [  7.   ,   0.511],\n",
       "         [ 14.   ,   9.05 ],\n",
       "         [ 14.   ,   9.05 ],\n",
       "         [ 14.   ,   9.2  ]],\n",
       " \n",
       "        [[  5.   ,   0.   ],\n",
       "         [  5.   ,   0.   ],\n",
       "         [  5.   ,   0.507],\n",
       "         [ 13.885,   9.95 ],\n",
       "         [ 14.8  ,   9.95 ],\n",
       "         [ 14.8  ,   9.8  ]],\n",
       " \n",
       "        [[  4.25 ,   0.5  ],\n",
       "         [  4.25 ,   0.5  ],\n",
       "         [  4.25 ,   0.5  ],\n",
       "         [ 13.886,  10.55 ],\n",
       "         [ 14.8  ,  10.55 ],\n",
       "         [ 14.8  ,  10.4  ]],\n",
       " \n",
       "        [[  4.   ,   0.   ],\n",
       "         [  4.   ,   0.   ],\n",
       "         [  4.   ,   0.514],\n",
       "         [ 13.879,  12.35 ],\n",
       "         [ 14.8  ,  12.35 ],\n",
       "         [ 14.8  ,  12.2  ]],\n",
       " \n",
       "        [[  3.   ,   0.   ],\n",
       "         [  3.   ,   0.   ],\n",
       "         [  3.   ,   0.5  ],\n",
       "         [ 13.877,  14.15 ],\n",
       "         [ 14.8  ,  14.15 ],\n",
       "         [ 14.8  ,  14.   ]],\n",
       " \n",
       "        [[  1.75 ,   0.5  ],\n",
       "         [  1.75 ,   0.5  ],\n",
       "         [  1.75 ,   0.5  ],\n",
       "         [ 13.871,  14.45 ],\n",
       "         [ 14.   ,  14.45 ],\n",
       "         [ 14.   ,  14.6  ]],\n",
       " \n",
       "        [[  0.5  ,   0.   ],\n",
       "         [  0.5  ,   0.   ],\n",
       "         [  0.5  ,   0.507],\n",
       "         [ 13.877,  14.75 ],\n",
       "         [ 14.8  ,  14.75 ],\n",
       "         [ 14.8  ,  14.6  ]]]), array([[[  9.75 ,   0.39 ],\n",
       "         [  9.75 ,   0.39 ],\n",
       "         [  9.75 ,   0.5  ],\n",
       "         [ 14.   ,   7.55 ],\n",
       "         [ 14.8  ,   7.55 ],\n",
       "         [ 14.8  ,   7.55 ]],\n",
       " \n",
       "        [[  9.25 ,   0.39 ],\n",
       "         [  9.25 ,   0.39 ],\n",
       "         [  9.25 ,   0.5  ],\n",
       "         [ 13.953,   7.85 ],\n",
       "         [ 14.   ,   7.85 ],\n",
       "         [ 14.   ,   7.85 ]],\n",
       " \n",
       "        [[  8.5  ,  -0.11 ],\n",
       "         [  8.5  ,  -0.11 ],\n",
       "         [  8.5  ,   0.5  ],\n",
       "         [ 14.   ,   9.35 ],\n",
       "         [ 14.8  ,   9.35 ],\n",
       "         [ 14.8  ,   9.35 ]],\n",
       " \n",
       "        [[  8.25 ,   0.39 ],\n",
       "         [  8.25 ,   0.39 ],\n",
       "         [  8.25 ,   0.5  ],\n",
       "         [ 13.951,   9.65 ],\n",
       "         [ 14.   ,   9.65 ],\n",
       "         [ 14.   ,   9.65 ]],\n",
       " \n",
       "        [[  7.5  ,  -0.11 ],\n",
       "         [  7.5  ,  -0.11 ],\n",
       "         [  7.5  ,   0.5  ],\n",
       "         [ 14.   ,  10.25 ],\n",
       "         [ 14.   ,  10.25 ],\n",
       "         [ 14.   ,  10.25 ]],\n",
       " \n",
       "        [[  6.5  ,  -0.11 ],\n",
       "         [  6.5  ,  -0.11 ],\n",
       "         [  6.5  ,   0.5  ],\n",
       "         [ 14.   ,  12.95 ],\n",
       "         [ 14.8  ,  12.95 ],\n",
       "         [ 14.8  ,  12.95 ]],\n",
       " \n",
       "        [[  5.75 ,   0.39 ],\n",
       "         [  5.75 ,   0.39 ],\n",
       "         [  5.75 ,   0.5  ],\n",
       "         [ 14.   ,  13.85 ],\n",
       "         [ 14.   ,  13.85 ],\n",
       "         [ 14.   ,  13.85 ]],\n",
       " \n",
       "        [[  2.5  ,  -0.11 ],\n",
       "         [  2.5  ,  -0.11 ],\n",
       "         [  2.5  ,   0.5  ],\n",
       "         [ 14.   ,  15.05 ],\n",
       "         [ 14.   ,  15.05 ],\n",
       "         [ 14.   ,  15.05 ]],\n",
       " \n",
       "        [[  2.25 ,   0.39 ],\n",
       "         [  2.25 ,   0.39 ],\n",
       "         [  2.25 ,   0.505],\n",
       "         [ 14.   ,  15.65 ],\n",
       "         [ 14.   ,  15.65 ],\n",
       "         [ 14.   ,  15.65 ]]]), array([[[  5.5 ,  -0.11],\n",
       "         [  5.5 ,  -0.11],\n",
       "         [  5.5 ,   0.5 ],\n",
       "         [ 14.  ,   4.85],\n",
       "         [ 14.  ,   4.85],\n",
       "         [ 14.  ,   4.85]],\n",
       " \n",
       "        [[  2.75,   0.39],\n",
       "         [  2.75,   0.39],\n",
       "         [  2.75,   0.5 ],\n",
       "         [ 14.  ,   6.35],\n",
       "         [ 14.8 ,   6.35],\n",
       "         [ 14.8 ,   6.35]],\n",
       " \n",
       "        [[  1.25,   0.39],\n",
       "         [  1.25,   0.39],\n",
       "         [  1.25,   0.5 ],\n",
       "         [ 14.  ,   6.65],\n",
       "         [ 14.  ,   6.65],\n",
       "         [ 14.  ,   6.65]],\n",
       " \n",
       "        [[  0.75,   0.39],\n",
       "         [  0.75,   0.39],\n",
       "         [  0.75,   0.5 ],\n",
       "         [ 14.  ,   7.25],\n",
       "         [ 14.  ,   7.25],\n",
       "         [ 14.  ,   7.25]],\n",
       " \n",
       "        [[  0.25,   0.39],\n",
       "         [  0.25,   0.39],\n",
       "         [  0.25,   0.5 ],\n",
       "         [ 14.  ,  11.15],\n",
       "         [ 14.8 ,  11.15],\n",
       "         [ 14.8 ,  11.15]]]), array([[[  6.25,   0.39],\n",
       "         [  6.25,   0.39],\n",
       "         [  6.25,   0.5 ],\n",
       "         [ 14.  ,   5.45],\n",
       "         [ 14.  ,   5.45],\n",
       "         [ 14.  ,   5.45]],\n",
       " \n",
       "        [[  4.75,   0.39],\n",
       "         [  4.75,   0.39],\n",
       "         [  4.75,   0.5 ],\n",
       "         [ 14.  ,   8.45],\n",
       "         [ 14.  ,   8.45],\n",
       "         [ 14.  ,   8.45]],\n",
       " \n",
       "        [[  3.75,   0.39],\n",
       "         [  3.75,   0.39],\n",
       "         [  3.75,   0.5 ],\n",
       "         [ 14.  ,   8.75],\n",
       "         [ 14.8 ,   8.75],\n",
       "         [ 14.8 ,   8.75]],\n",
       " \n",
       "        [[  1.5 ,  -0.11],\n",
       "         [  1.5 ,  -0.11],\n",
       "         [  1.5 ,   0.5 ],\n",
       "         [ 14.  ,  10.85],\n",
       "         [ 14.  ,  10.85],\n",
       "         [ 14.  ,  10.85]],\n",
       " \n",
       "        [[  1.  ,  -0.11],\n",
       "         [  1.  ,  -0.11],\n",
       "         [  1.  ,   0.5 ],\n",
       "         [ 14.  ,  11.45],\n",
       "         [ 14.  ,  11.45],\n",
       "         [ 14.  ,  11.45]]])]"
      ]
     },
     "execution_count": 102,
     "metadata": {},
     "output_type": "execute_result"
    }
   ],
   "source": [
    "int_lines_list"
   ]
  },
  {
   "cell_type": "code",
   "execution_count": 21,
   "metadata": {
    "collapsed": false,
    "scrolled": true
   },
   "outputs": [
    {
     "name": "stdout",
     "output_type": "stream",
     "text": [
      "True\n",
      "True\n",
      "True\n",
      "True\n",
      "True\n",
      "True\n",
      "True\n",
      "True\n",
      "True\n",
      "True\n",
      "True\n",
      "True\n",
      "True\n",
      "True\n",
      "True\n",
      "True\n",
      "True\n",
      "True\n",
      "True\n",
      "True\n",
      "True\n",
      "True\n",
      "True\n",
      "True\n",
      "True\n",
      "True\n",
      "True\n",
      "True\n",
      "True\n",
      "True\n",
      "True\n",
      "True\n",
      "True\n",
      "True\n",
      "True\n",
      "True\n",
      "True\n",
      "True\n",
      "True\n",
      "True\n",
      "True\n",
      "True\n",
      "True\n",
      "True\n",
      "True\n",
      "True\n",
      "True\n",
      "True\n",
      "True\n",
      "True\n",
      "True\n",
      "True\n",
      "True\n",
      "True\n"
     ]
    }
   ],
   "source": [
    "for i in range(len(jump_coordinates)):\n",
    "    print line_to_poly(jump_lines[i]).contains(Point(jump_coordinates[i]))"
   ]
  },
  {
   "cell_type": "code",
   "execution_count": 25,
   "metadata": {
    "collapsed": false
   },
   "outputs": [],
   "source": [
    "internal, external, jump_lines = get_lines(connections, subsequences[0], subsequences[1], chip_1, chip_2, 1)"
   ]
  },
  {
   "cell_type": "code",
   "execution_count": 26,
   "metadata": {
    "collapsed": false
   },
   "outputs": [],
   "source": [
    "internal, external = optimize_embedding(internal, external, jump_lines)"
   ]
  },
  {
   "cell_type": "code",
   "execution_count": 58,
   "metadata": {
    "collapsed": false
   },
   "outputs": [
    {
     "data": {
      "text/plain": [
       "array([22,  3])"
      ]
     },
     "execution_count": 58,
     "metadata": {},
     "output_type": "execute_result"
    }
   ],
   "source": [
    "connections.values[3]"
   ]
  },
  {
   "cell_type": "code",
   "execution_count": 28,
   "metadata": {
    "collapsed": false
   },
   "outputs": [
    {
     "data": {
      "text/plain": [
       "<matplotlib.collections.PathCollection at 0x7f492bfedd50>"
      ]
     },
     "execution_count": 28,
     "metadata": {},
     "output_type": "execute_result"
    },
    {
     "data": {
      "image/png": "[encoded data removed]",
      "text/plain": [
       "<matplotlib.figure.Figure at 0x7f492bc9add0>"
      ]
     },
     "metadata": {},
     "output_type": "display_data"
    }
   ],
   "source": [
    "plot_all_lines(internal, 0.05)\n",
    "plot_all_lines(external, 0.05)\n",
    "#plot_all_lines(jump_lines, 0.05)\n",
    "plt.scatter(chip_1.values.T[0], chip_1.values.T[1])\n",
    "plt.scatter(chip_2.values.T[0], chip_2.values.T[1])\n",
    "#plt.scatter(np.array(jump_coordinates[28:30]).T[0], np.array(jump_coordinates[28:30]).T[1], color = 'r')"
   ]
  },
  {
   "cell_type": "code",
   "execution_count": 11,
   "metadata": {
    "collapsed": false
   },
   "outputs": [],
   "source": [
    "all_lines = []\n",
    "\n",
    "for line in internal:\n",
    "    all_lines.append(line)\n",
    "    \n",
    "for line in external:\n",
    "    all_lines.append(line)\n",
    "    \n",
    "for line in jump_lines:\n",
    "    all_lines.append(line)"
   ]
  },
  {
   "cell_type": "code",
   "execution_count": 12,
   "metadata": {
    "collapsed": false
   },
   "outputs": [
    {
     "name": "stdout",
     "output_type": "stream",
     "text": [
      "0.1\n",
      "0.103359032924\n",
      "0.1\n"
     ]
    }
   ],
   "source": [
    "print min_distance(internal)\n",
    "print min_distance(external)\n",
    "print min_distance(all_lines)"
   ]
  },
  {
   "cell_type": "code",
   "execution_count": 11,
   "metadata": {
    "collapsed": false
   },
   "outputs": [
    {
     "name": "stdout",
     "output_type": "stream",
     "text": [
      "69.1466451954\n",
      "122.065954139\n",
      "191.212599334\n"
     ]
    }
   ],
   "source": [
    "print sum_length(internal)\n",
    "print sum_length(external)\n",
    "print sum_length(all_lines)\n",
    "ans.append(sum_length(all_lines))"
   ]
  },
  {
   "cell_type": "code",
   "execution_count": 79,
   "metadata": {
    "collapsed": false
   },
   "outputs": [
    {
     "data": {
      "text/plain": [
       "647.28921305222104"
      ]
     },
     "execution_count": 79,
     "metadata": {},
     "output_type": "execute_result"
    }
   ],
   "source": [
    "np.sum(ans)"
   ]
  },
  {
   "cell_type": "code",
   "execution_count": 14,
   "metadata": {
    "collapsed": true
   },
   "outputs": [],
   "source": [
    "external_polys = [line_to_poly(raw_line) for raw_line in external]"
   ]
  },
  {
   "cell_type": "code",
   "execution_count": 16,
   "metadata": {
    "collapsed": false
   },
   "outputs": [],
   "source": [
    "poly =  line_to_poly([(0, 0), (1, 0), (1, 1)], distance=0.00000001)"
   ]
  },
  {
   "cell_type": "code",
   "execution_count": 17,
   "metadata": {
    "collapsed": false
   },
   "outputs": [
    {
     "data": {
      "text/plain": [
       "0.9999999900000002"
      ]
     },
     "execution_count": 17,
     "metadata": {},
     "output_type": "execute_result"
    }
   ],
   "source": [
    "LinearRing(np.array(poly.exterior.xy).T).distance(Point(2, 0.5))"
   ]
  },
  {
   "cell_type": "code",
   "execution_count": 19,
   "metadata": {
    "collapsed": false
   },
   "outputs": [],
   "source": [
    "plot_all_lines([[(0, 0), (1, 0), (1, 1)], [(2, 0.5), (3, 0.5)]], 0.0001)"
   ]
  },
  {
   "cell_type": "code",
   "execution_count": 20,
   "metadata": {
    "collapsed": true
   },
   "outputs": [],
   "source": [
    "plt.show()"
   ]
  },
  {
   "cell_type": "code",
   "execution_count": 30,
   "metadata": {
    "collapsed": true
   },
   "outputs": [],
   "source": [
    "from utils.embedding import embedding"
   ]
  },
  {
   "cell_type": "code",
   "execution_count": 19,
   "metadata": {
    "collapsed": false
   },
   "outputs": [
    {
     "data": {
      "text/plain": [
       "0.024046578391980072"
      ]
     },
     "execution_count": 19,
     "metadata": {},
     "output_type": "execute_result"
    }
   ],
   "source": [
    "LinearRing(np.array(line_to_poly(internal[-1]).exterior.xy).T).distance(Point(chip_2.values[13]))"
   ]
  },
  {
   "cell_type": "code",
   "execution_count": 18,
   "metadata": {
    "collapsed": false
   },
   "outputs": [
    {
     "data": {
      "text/plain": [
       "0.0"
      ]
     },
     "execution_count": 18,
     "metadata": {},
     "output_type": "execute_result"
    }
   ],
   "source": [
    "Point(chip_2.values[13]).area"
   ]
  },
  {
   "cell_type": "code",
   "execution_count": 15,
   "metadata": {
    "collapsed": false
   },
   "outputs": [
    {
     "data": {
      "text/plain": [
       "(array('d', [0.45000000000000007, 13.477933608101893, 14.850000000000101, 14.850000000000001, 14.75, 14.75, 13.522066391898106, 0.55, 0.55, 0.45, 0.45000000000000007]),\n",
       " array('d', [0.5193804680421552, 14.799999999999999, 14.799999999999999, 14.6, 14.6, 14.7, 14.7, 0.48061953195784485, 0.0, 0.0, 0.5193804680421552]))"
      ]
     },
     "execution_count": 15,
     "metadata": {},
     "output_type": "execute_result"
    }
   ],
   "source": [
    "line_to_poly(internal[-1]).exterior.xy"
   ]
  },
  {
   "cell_type": "code",
   "execution_count": 10,
   "metadata": {
    "collapsed": false
   },
   "outputs": [
    {
     "data": {
      "text/plain": [
       "(array('d', [13.95, 13.95, 14.05, 14.049999999999883, 1.787570382791797, 1.712429617208203, 13.95]),\n",
       " array('d', [14.468837369526353, 14.6, 14.6, 14.431162630473512, 0.46700808679573375, 0.5329919132042662, 14.468837369526353]))"
      ]
     },
     "execution_count": 10,
     "metadata": {},
     "output_type": "execute_result"
    }
   ],
   "source": [
    "line_to_poly(internal[-2]).exterior.xy"
   ]
  },
  {
   "cell_type": "code",
   "execution_count": 22,
   "metadata": {
    "collapsed": false
   },
   "outputs": [
    {
     "data": {
      "text/plain": [
       "0.0"
      ]
     },
     "execution_count": 22,
     "metadata": {},
     "output_type": "execute_result"
    }
   ],
   "source": [
    "min_distance([internal[0], internal[-1]])"
   ]
  },
  {
   "cell_type": "code",
   "execution_count": 16,
   "metadata": {
    "collapsed": false
   },
   "outputs": [
    {
     "data": {
      "image/svg+xml": [
       "<svg xmlns=\"http://www.w3.org/2000/svg\" xmlns:xlink=\"http://www.w3.org/1999/xlink\" width=\"100.0\" height=\"100.0\" viewBox=\"-0.142 -0.592 15.584 15.984\" preserveAspectRatio=\"xMinYMin meet\"><g transform=\"matrix(1,0,0,-1,0,14.8)\"><path fill-rule=\"evenodd\" fill=\"#66cc99\" stroke=\"#555555\" stroke-width=\"0.31968\" opacity=\"0.6\" d=\"M 0.45,0.519380468042 L 13.4779336081,14.8 L 14.85,14.8 L 14.85,14.6 L 14.75,14.6 L 14.75,14.7 L 13.5220663919,14.7 L 0.55,0.480619531958 L 0.55,0.0 L 0.45,0.0 L 0.45,0.519380468042 z\" /></g></svg>"
      ],
      "text/plain": [
       "<shapely.geometry.polygon.Polygon at 0x7f4a62ea5750>"
      ]
     },
     "execution_count": 16,
     "metadata": {},
     "output_type": "execute_result"
    }
   ],
   "source": [
    "line_to_poly(internal[-1])"
   ]
  },
  {
   "cell_type": "code",
   "execution_count": 18,
   "metadata": {
    "collapsed": false
   },
   "outputs": [
    {
     "data": {
      "text/plain": [
       "9.75"
      ]
     },
     "execution_count": 18,
     "metadata": {},
     "output_type": "execute_result"
    }
   ],
   "source": [
    "np.max(list(zip(*chip_1.values)[0]))"
   ]
  },
  {
   "cell_type": "code",
   "execution_count": 20,
   "metadata": {
    "collapsed": false
   },
   "outputs": [
    {
     "data": {
      "text/plain": [
       "14.800000000000001"
      ]
     },
     "execution_count": 20,
     "metadata": {},
     "output_type": "execute_result"
    }
   ],
   "source": [
    "np.max(list(zip(*chip_2.values)[0]))"
   ]
  },
  {
   "cell_type": "code",
   "execution_count": 37,
   "metadata": {
    "collapsed": false
   },
   "outputs": [
    {
     "data": {
      "text/plain": [
       "0.017241379310345372"
      ]
     },
     "execution_count": 37,
     "metadata": {},
     "output_type": "execute_result"
    }
   ],
   "source": [
    "LinearRing(np.array(line_to_poly(internal[1]).exterior.xy).T).distance(\n",
    "                LinearRing(np.array(line_to_poly(external[0]).exterior.xy).T))"
   ]
  },
  {
   "cell_type": "code",
   "execution_count": 23,
   "metadata": {
    "collapsed": false
   },
   "outputs": [
    {
     "ename": "ValueError",
     "evalue": "all the input array dimensions except for the concatenation axis must match exactly",
     "output_type": "error",
     "traceback": [
      "\u001b[1;31m---------------------------------------------------------------------------\u001b[0m",
      "\u001b[1;31mValueError\u001b[0m                                Traceback (most recent call last)",
      "\u001b[1;32m<ipython-input-23-64e35fe50181>\u001b[0m in \u001b[0;36m<module>\u001b[1;34m()\u001b[0m\n\u001b[1;32m----> 1\u001b[1;33m \u001b[0mnp\u001b[0m\u001b[1;33m.\u001b[0m\u001b[0mappend\u001b[0m\u001b[1;33m(\u001b[0m\u001b[0minternal\u001b[0m\u001b[1;33m,\u001b[0m \u001b[0mexternal\u001b[0m\u001b[1;33m,\u001b[0m \u001b[0maxis\u001b[0m \u001b[1;33m=\u001b[0m \u001b[1;36m2\u001b[0m\u001b[1;33m)\u001b[0m\u001b[1;33m\u001b[0m\u001b[0m\n\u001b[0m",
      "\u001b[1;32m/usr/local/lib/python2.7/site-packages/numpy/lib/function_base.pyc\u001b[0m in \u001b[0;36mappend\u001b[1;34m(arr, values, axis)\u001b[0m\n\u001b[0;32m   4148\u001b[0m         \u001b[0mvalues\u001b[0m \u001b[1;33m=\u001b[0m \u001b[0mravel\u001b[0m\u001b[1;33m(\u001b[0m\u001b[0mvalues\u001b[0m\u001b[1;33m)\u001b[0m\u001b[1;33m\u001b[0m\u001b[0m\n\u001b[0;32m   4149\u001b[0m         \u001b[0maxis\u001b[0m \u001b[1;33m=\u001b[0m \u001b[0marr\u001b[0m\u001b[1;33m.\u001b[0m\u001b[0mndim\u001b[0m\u001b[1;33m-\u001b[0m\u001b[1;36m1\u001b[0m\u001b[1;33m\u001b[0m\u001b[0m\n\u001b[1;32m-> 4150\u001b[1;33m     \u001b[1;32mreturn\u001b[0m \u001b[0mconcatenate\u001b[0m\u001b[1;33m(\u001b[0m\u001b[1;33m(\u001b[0m\u001b[0marr\u001b[0m\u001b[1;33m,\u001b[0m \u001b[0mvalues\u001b[0m\u001b[1;33m)\u001b[0m\u001b[1;33m,\u001b[0m \u001b[0maxis\u001b[0m\u001b[1;33m=\u001b[0m\u001b[0maxis\u001b[0m\u001b[1;33m)\u001b[0m\u001b[1;33m\u001b[0m\u001b[0m\n\u001b[0m",
      "\u001b[1;31mValueError\u001b[0m: all the input array dimensions except for the concatenation axis must match exactly"
     ]
    }
   ],
   "source": []
  },
  {
   "cell_type": "code",
   "execution_count": 24,
   "metadata": {
    "collapsed": false
   },
   "outputs": [
    {
     "data": {
      "image/svg+xml": [
       "<svg xmlns=\"http://www.w3.org/2000/svg\" xmlns:xlink=\"http://www.w3.org/1999/xlink\" width=\"100.0\" height=\"100.0\" viewBox=\"2.1908 -1.1392 13.7484 8.0484\" preserveAspectRatio=\"xMinYMin meet\"><g transform=\"matrix(1,0,0,-1,0,5.77)\"><path fill-rule=\"evenodd\" fill=\"#66cc99\" stroke=\"#555555\" stroke-width=\"0.274968\" opacity=\"0.6\" d=\"M 2.8,-0.53 L 9.72981694687,-0.53 L 15.33,4.87124226971 L 15.33,6.3 L 14.85,6.3 L 14.85,6.2 L 14.75,6.2 L 14.75,6.4 L 15.43,6.4 L 15.43,4.82875773029 L 9.77018305313,-0.63 L 2.7,-0.63 L 2.7,0.5 L 2.8,0.5 L 2.8,-0.53 z\" /></g></svg>"
      ],
      "text/plain": [
       "<shapely.geometry.polygon.Polygon at 0x7f1c887efc90>"
      ]
     },
     "execution_count": 24,
     "metadata": {},
     "output_type": "execute_result"
    }
   ],
   "source": [
    "line_to_poly(external[1])"
   ]
  },
  {
   "cell_type": "code",
   "execution_count": 38,
   "metadata": {
    "collapsed": false
   },
   "outputs": [
    {
     "data": {
      "text/plain": [
       "array([[  9.  ,   0.  ],\n",
       "       [  9.  ,   0.  ],\n",
       "       [  9.  ,   0.5 ],\n",
       "       [ 14.  ,   5.75],\n",
       "       [ 14.8 ,   5.75],\n",
       "       [ 14.8 ,   5.6 ]])"
      ]
     },
     "execution_count": 38,
     "metadata": {},
     "output_type": "execute_result"
    }
   ],
   "source": [
    "internal[1]"
   ]
  },
  {
   "cell_type": "code",
   "execution_count": 54,
   "metadata": {
    "collapsed": false
   },
   "outputs": [
    {
     "data": {
      "text/plain": [
       "0.10052897184483285"
      ]
     },
     "execution_count": 54,
     "metadata": {},
     "output_type": "execute_result"
    }
   ],
   "source": [
    "min_distance([internal[1],internal[2]])"
   ]
  },
  {
   "cell_type": "code",
   "execution_count": 52,
   "metadata": {
    "collapsed": false
   },
   "outputs": [
    {
     "data": {
      "text/plain": [
       "0.09999999999999662"
      ]
     },
     "execution_count": 52,
     "metadata": {},
     "output_type": "execute_result"
    }
   ],
   "source": [
    "min_distance([external[0], internal[1]])"
   ]
  },
  {
   "cell_type": "code",
   "execution_count": 49,
   "metadata": {
    "collapsed": false
   },
   "outputs": [
    {
     "name": "stdout",
     "output_type": "stream",
     "text": [
      "0.0937204283533\n",
      "0.101298642209\n",
      "0.101298642209\n",
      "0.1\n",
      "0.101298642209\n",
      "0.1\n",
      "0.1\n",
      "0.101298642209\n",
      "0.1\n",
      "0.101298642209\n",
      "0.101298642209\n"
     ]
    }
   ],
   "source": [
    "for lines in internal:\n",
    "    aaa = external.tolist()\n",
    "    aaa.append(lines.tolist())\n",
    "    print min_distance(aaa)"
   ]
  },
  {
   "cell_type": "code",
   "execution_count": 46,
   "metadata": {
    "collapsed": false
   },
   "outputs": [],
   "source": [
    "aaa = external.tolist()"
   ]
  },
  {
   "cell_type": "code",
   "execution_count": 47,
   "metadata": {
    "collapsed": false
   },
   "outputs": [],
   "source": [
    "aaa.append(internal[1].tolist())"
   ]
  },
  {
   "cell_type": "code",
   "execution_count": 48,
   "metadata": {
    "collapsed": false
   },
   "outputs": [
    {
     "data": {
      "text/plain": [
       "0.10129864220864224"
      ]
     },
     "execution_count": 48,
     "metadata": {},
     "output_type": "execute_result"
    }
   ],
   "source": [
    "min_distance(aaa)"
   ]
  },
  {
   "cell_type": "code",
   "execution_count": 26,
   "metadata": {
    "collapsed": false
   },
   "outputs": [
    {
     "data": {
      "text/plain": [
       "[[20, 21, 2, 25, 7, 28, 29, 32, 35, 16, 36],\n",
       " [24, 5, 27, 8, 9, 33, 15, 17, 18],\n",
       " [0, 22, 3, 4, 30],\n",
       " [1, 6, 26, 10, 11],\n",
       " [13, 14, 37, 38, 19],\n",
       " [31, 12],\n",
       " [34, 39],\n",
       " [23]]"
      ]
     },
     "execution_count": 26,
     "metadata": {},
     "output_type": "execute_result"
    }
   ],
   "source": [
    "subsequences"
   ]
  },
  {
   "cell_type": "code",
   "execution_count": 32,
   "metadata": {
    "collapsed": false
   },
   "outputs": [
    {
     "data": {
      "text/plain": [
       "<matplotlib.collections.PathCollection at 0x7ffb42dc6850>"
      ]
     },
     "execution_count": 32,
     "metadata": {},
     "output_type": "execute_result"
    },
    {
     "data": {
      "image/png": "[encoded data removed]",
      "text/plain": [
       "<matplotlib.figure.Figure at 0x7ffb42e4e610>"
      ]
     },
     "metadata": {},
     "output_type": "display_data"
    }
   ],
   "source": [
    "aaa = np.array(get_jumps(connections, subsequences[0], subsequences[1], chip_1, chip_2, 1)).T\n",
    "plot_all_lines(jump_lines, 0.05)\n",
    "plt.scatter(aaa[0], aaa[1])"
   ]
  },
  {
   "cell_type": "code",
   "execution_count": 30,
   "metadata": {
    "collapsed": false
   },
   "outputs": [
    {
     "data": {
      "text/plain": [
       "8"
      ]
     },
     "execution_count": 30,
     "metadata": {},
     "output_type": "execute_result"
    }
   ],
   "source": [
    "len(subsequences)"
   ]
  },
  {
   "cell_type": "code",
   "execution_count": 14,
   "metadata": {
    "collapsed": false
   },
   "outputs": [
    {
     "data": {
      "text/plain": [
       "(2, 40)"
      ]
     },
     "execution_count": 14,
     "metadata": {},
     "output_type": "execute_result"
    }
   ],
   "source": [
    "aaa.shape"
   ]
  },
  {
   "cell_type": "code",
   "execution_count": 15,
   "metadata": {
    "collapsed": false
   },
   "outputs": [
    {
     "data": {
      "text/plain": [
       "[[20, 21, 2, 25, 7, 28, 29, 32, 35, 16, 36],\n",
       " [24, 5, 27, 8, 9, 33, 15, 17, 18],\n",
       " [0, 22, 3, 4, 30],\n",
       " [1, 6, 26, 10, 11],\n",
       " [13, 14, 37, 38, 19],\n",
       " [31, 12],\n",
       " [34, 39],\n",
       " [23]]"
      ]
     },
     "execution_count": 15,
     "metadata": {},
     "output_type": "execute_result"
    }
   ],
   "source": [
    "subsequences"
   ]
  },
  {
   "cell_type": "code",
   "execution_count": 33,
   "metadata": {
    "collapsed": false
   },
   "outputs": [
    {
     "data": {
      "text/plain": [
       "array([[[  9.5 ,   0.  ],\n",
       "        [  9.5 ,   0.  ],\n",
       "        [  9.5 ,   0.5 ],\n",
       "        [ 14.  ,   5.15],\n",
       "        [ 14.8 ,   5.15],\n",
       "        [ 14.8 ,   5.  ]],\n",
       "\n",
       "       [[  9.  ,   0.  ],\n",
       "        [  9.  ,   0.  ],\n",
       "        [  9.  ,   0.5 ],\n",
       "        [ 14.  ,   5.75],\n",
       "        [ 14.8 ,   5.75],\n",
       "        [ 14.8 ,   5.6 ]],\n",
       "\n",
       "       [[  8.  ,   0.  ],\n",
       "        [  8.  ,   0.  ],\n",
       "        [  8.  ,   0.5 ],\n",
       "        [ 14.  ,   6.05],\n",
       "        [ 14.  ,   6.05],\n",
       "        [ 14.  ,   6.2 ]],\n",
       "\n",
       "       [[  7.25,   0.5 ],\n",
       "        [  7.25,   0.5 ],\n",
       "        [  7.25,   0.5 ],\n",
       "        [ 14.  ,   8.15],\n",
       "        [ 14.8 ,   8.15],\n",
       "        [ 14.8 ,   8.  ]],\n",
       "\n",
       "       [[  7.  ,   0.  ],\n",
       "        [  7.  ,   0.  ],\n",
       "        [  7.  ,   0.5 ],\n",
       "        [ 14.  ,   9.05],\n",
       "        [ 14.  ,   9.05],\n",
       "        [ 14.  ,   9.2 ]],\n",
       "\n",
       "       [[  5.  ,   0.  ],\n",
       "        [  5.  ,   0.  ],\n",
       "        [  5.  ,   0.5 ],\n",
       "        [ 14.  ,   9.95],\n",
       "        [ 14.8 ,   9.95],\n",
       "        [ 14.8 ,   9.8 ]],\n",
       "\n",
       "       [[  4.25,   0.5 ],\n",
       "        [  4.25,   0.5 ],\n",
       "        [  4.25,   0.5 ],\n",
       "        [ 14.  ,  10.55],\n",
       "        [ 14.8 ,  10.55],\n",
       "        [ 14.8 ,  10.4 ]],\n",
       "\n",
       "       [[  4.  ,   0.  ],\n",
       "        [  4.  ,   0.  ],\n",
       "        [  4.  ,   0.5 ],\n",
       "        [ 14.  ,  12.35],\n",
       "        [ 14.8 ,  12.35],\n",
       "        [ 14.8 ,  12.2 ]],\n",
       "\n",
       "       [[  3.  ,   0.  ],\n",
       "        [  3.  ,   0.  ],\n",
       "        [  3.  ,   0.5 ],\n",
       "        [ 14.  ,  14.15],\n",
       "        [ 14.8 ,  14.15],\n",
       "        [ 14.8 ,  14.  ]],\n",
       "\n",
       "       [[  1.75,   0.5 ],\n",
       "        [  1.75,   0.5 ],\n",
       "        [  1.75,   0.5 ],\n",
       "        [ 14.  ,  14.45],\n",
       "        [ 14.  ,  14.45],\n",
       "        [ 14.  ,  14.6 ]],\n",
       "\n",
       "       [[  0.5 ,   0.  ],\n",
       "        [  0.5 ,   0.  ],\n",
       "        [  0.5 ,   0.5 ],\n",
       "        [ 14.  ,  14.75],\n",
       "        [ 14.8 ,  14.75],\n",
       "        [ 14.8 ,  14.6 ]]])"
      ]
     },
     "execution_count": 33,
     "metadata": {},
     "output_type": "execute_result"
    }
   ],
   "source": [
    "internal"
   ]
  },
  {
   "cell_type": "code",
   "execution_count": 35,
   "metadata": {
    "collapsed": false
   },
   "outputs": [
    {
     "data": {
      "text/plain": [
       "array([[[  9.5 ,   0.  ],\n",
       "        [  9.5 ,   0.  ],\n",
       "        [  9.5 ,   0.5 ],\n",
       "        [ 14.  ,   5.15],\n",
       "        [ 14.8 ,   5.15],\n",
       "        [ 14.8 ,   5.  ]],\n",
       "\n",
       "       [[  9.  ,   0.  ],\n",
       "        [  9.  ,   0.  ],\n",
       "        [  9.  ,   0.5 ],\n",
       "        [ 14.  ,   5.75],\n",
       "        [ 14.8 ,   5.75],\n",
       "        [ 14.8 ,   5.6 ]],\n",
       "\n",
       "       [[  8.  ,   0.  ],\n",
       "        [  8.  ,   0.  ],\n",
       "        [  8.  ,   0.5 ],\n",
       "        [ 14.  ,   6.05],\n",
       "        [ 14.  ,   6.05],\n",
       "        [ 14.  ,   6.2 ]],\n",
       "\n",
       "       [[  7.25,   0.5 ],\n",
       "        [  7.25,   0.5 ],\n",
       "        [  7.25,   0.5 ],\n",
       "        [ 14.  ,   8.15],\n",
       "        [ 14.8 ,   8.15],\n",
       "        [ 14.8 ,   8.  ]],\n",
       "\n",
       "       [[  7.  ,   0.  ],\n",
       "        [  7.  ,   0.  ],\n",
       "        [  7.  ,   0.5 ],\n",
       "        [ 14.  ,   9.05],\n",
       "        [ 14.  ,   9.05],\n",
       "        [ 14.  ,   9.2 ]],\n",
       "\n",
       "       [[  5.  ,   0.  ],\n",
       "        [  5.  ,   0.  ],\n",
       "        [  5.  ,   0.5 ],\n",
       "        [ 14.  ,   9.95],\n",
       "        [ 14.8 ,   9.95],\n",
       "        [ 14.8 ,   9.8 ]],\n",
       "\n",
       "       [[  4.25,   0.5 ],\n",
       "        [  4.25,   0.5 ],\n",
       "        [  4.25,   0.5 ],\n",
       "        [ 14.  ,  10.55],\n",
       "        [ 14.8 ,  10.55],\n",
       "        [ 14.8 ,  10.4 ]],\n",
       "\n",
       "       [[  4.  ,   0.  ],\n",
       "        [  4.  ,   0.  ],\n",
       "        [  4.  ,   0.5 ],\n",
       "        [ 14.  ,  12.35],\n",
       "        [ 14.8 ,  12.35],\n",
       "        [ 14.8 ,  12.2 ]],\n",
       "\n",
       "       [[  3.  ,   0.  ],\n",
       "        [  3.  ,   0.  ],\n",
       "        [  3.  ,   0.5 ],\n",
       "        [ 14.  ,  14.15],\n",
       "        [ 14.8 ,  14.15],\n",
       "        [ 14.8 ,  14.  ]],\n",
       "\n",
       "       [[  1.75,   0.5 ],\n",
       "        [  1.75,   0.5 ],\n",
       "        [  1.75,   0.5 ],\n",
       "        [ 14.  ,  14.45],\n",
       "        [ 14.  ,  14.45],\n",
       "        [ 14.  ,  14.6 ]],\n",
       "\n",
       "       [[  0.5 ,   0.  ],\n",
       "        [  0.5 ,   0.  ],\n",
       "        [  0.5 ,   0.5 ],\n",
       "        [ 14.  ,  14.75],\n",
       "        [ 14.8 ,  14.75],\n",
       "        [ 14.8 ,  14.6 ]]])"
      ]
     },
     "execution_count": 35,
     "metadata": {},
     "output_type": "execute_result"
    }
   ],
   "source": [
    "internal"
   ]
  },
  {
   "cell_type": "code",
   "execution_count": 7,
   "metadata": {
    "collapsed": false
   },
   "outputs": [
    {
     "data": {
      "text/plain": [
       "[[20, 21, 2, 25, 7, 28, 29, 32, 35, 16, 36],\n",
       " [24, 5, 27, 8, 9, 33, 15, 17, 18],\n",
       " [0, 22, 3, 4, 30],\n",
       " [1, 6, 26, 10, 11],\n",
       " [13, 14, 37, 38, 19],\n",
       " [31, 12],\n",
       " [34, 39],\n",
       " [23]]"
      ]
     },
     "execution_count": 7,
     "metadata": {},
     "output_type": "execute_result"
    }
   ],
   "source": [
    "subsequences"
   ]
  },
  {
   "cell_type": "code",
   "execution_count": 47,
   "metadata": {
    "collapsed": false
   },
   "outputs": [
    {
     "data": {
      "text/plain": [
       "array([[  5.5  ,  14.   ,   6.25 ,  14.   ,   1.25 ,  14.   ,   0.75 ,\n",
       "         14.   ,   9.25 ,  14.   ,   4.75 ,  14.   ,   8.25 ,  14.   ,\n",
       "          7.5  ,  14.   ,   1.5  ,  14.   ,   1.   ,  14.   ,   2.   ,\n",
       "         14.   ,   8.75 ,  14.   ,   6.75 ,  14.   ,   5.75 ,  14.   ,\n",
       "          2.5  ,  14.   ,   2.25 ,  14.   ,   3.25 ,  14.   ,   2.75 ,\n",
       "         14.8  ,   0.   ,  14.8  ,   9.75 ,  14.8  ,   3.75 ,  14.8  ,\n",
       "          8.5  ,  14.8  ,   0.25 ,  14.8  ,   5.25 ,  14.8  ,   6.5  ,\n",
       "         14.8  ,   6.   ,  14.8  ,   4.5  ,  14.8  ],\n",
       "       [ -0.11 ,   4.85 ,   0.39 ,   5.45 ,   0.39 ,   6.65 ,   0.39 ,\n",
       "          7.25 ,   0.39 ,   7.85 ,   0.39 ,   8.45 ,   0.39 ,   9.65 ,\n",
       "         -0.11 ,  10.25 ,  -0.11 ,  10.85 ,  -0.11 ,  11.45 ,  -0.11 ,\n",
       "         12.05 ,   0.39 ,  12.65 ,   0.39 ,  13.25 ,   0.39 ,  13.85 ,\n",
       "         -0.11 ,  15.05 ,   0.39 ,  15.65 ,   0.39 ,  16.25 ,   0.39 ,\n",
       "          6.35 ,  -0.109,   6.95 ,   0.39 ,   7.55 ,   0.39 ,   8.75 ,\n",
       "         -0.11 ,   9.35 ,   0.39 ,  11.15 ,   0.39 ,  11.75 ,  -0.11 ,\n",
       "         12.95 ,  -0.11 ,  15.35 ,  -0.11 ,  15.95 ]])"
      ]
     },
     "execution_count": 47,
     "metadata": {},
     "output_type": "execute_result"
    }
   ],
   "source": [
    "np.array(jump_coordinates).T"
   ]
  },
  {
   "cell_type": "code",
   "execution_count": 11,
   "metadata": {
    "collapsed": false
   },
   "outputs": [
    {
     "data": {
      "text/plain": [
       "array([], dtype=float64)"
      ]
     },
     "execution_count": 11,
     "metadata": {},
     "output_type": "execute_result"
    }
   ],
   "source": [
    "external"
   ]
  },
  {
   "cell_type": "code",
   "execution_count": 12,
   "metadata": {
    "collapsed": true
   },
   "outputs": [],
   "source": [
    "a = None"
   ]
  },
  {
   "cell_type": "code",
   "execution_count": 13,
   "metadata": {
    "collapsed": true
   },
   "outputs": [],
   "source": [
    "b = [1,2,3]"
   ]
  },
  {
   "cell_type": "code",
   "execution_count": 14,
   "metadata": {
    "collapsed": false
   },
   "outputs": [
    {
     "ename": "TypeError",
     "evalue": "list indices must be integers, not NoneType",
     "output_type": "error",
     "traceback": [
      "\u001b[1;31m---------------------------------------------------------------------------\u001b[0m",
      "\u001b[1;31mTypeError\u001b[0m                                 Traceback (most recent call last)",
      "\u001b[1;32m<ipython-input-14-9f1bfc533672>\u001b[0m in \u001b[0;36m<module>\u001b[1;34m()\u001b[0m\n\u001b[1;32m----> 1\u001b[1;33m \u001b[0mb\u001b[0m\u001b[1;33m[\u001b[0m\u001b[0ma\u001b[0m\u001b[1;33m]\u001b[0m\u001b[1;33m\u001b[0m\u001b[0m\n\u001b[0m",
      "\u001b[1;31mTypeError\u001b[0m: list indices must be integers, not NoneType"
     ]
    }
   ],
   "source": [
    "b[a]"
   ]
  },
  {
   "cell_type": "code",
   "execution_count": 8,
   "metadata": {
    "collapsed": false
   },
   "outputs": [
    {
     "data": {
      "text/plain": [
       "[[20, 21, 2, 25, 7, 28, 29, 32, 35, 16, 36],\n",
       " [24, 5, 27, 8, 9, 33, 15, 17, 18],\n",
       " [0, 22, 3, 4, 30],\n",
       " [1, 6, 26, 10, 11],\n",
       " [13, 14, 37, 38, 19],\n",
       " [31, 12],\n",
       " [34, 39],\n",
       " [23]]"
      ]
     },
     "execution_count": 8,
     "metadata": {},
     "output_type": "execute_result"
    }
   ],
   "source": [
    "subsequences"
   ]
  },
  {
   "cell_type": "code",
   "execution_count": 7,
   "metadata": {
    "collapsed": false
   },
   "outputs": [
    {
     "data": {
      "text/plain": [
       "[[0, 7], [1, 6], [2, 5], [3, None], [4, None]]"
      ]
     },
     "execution_count": 7,
     "metadata": {},
     "output_type": "execute_result"
    }
   ],
   "source": [
    "subsequences_by_layers_2"
   ]
  },
  {
   "cell_type": "code",
   "execution_count": 31,
   "metadata": {
    "collapsed": false
   },
   "outputs": [
    {
     "data": {
      "text/plain": [
       "array([[[  5.50000000e+00,   0.00000000e+00],\n",
       "        [  5.50000000e+00,  -1.10000000e-01]],\n",
       "\n",
       "       [[  1.40000000e+01,   5.00000000e+00],\n",
       "        [  1.40000000e+01,   4.85000000e+00]],\n",
       "\n",
       "       [[  6.25000000e+00,   5.00000000e-01],\n",
       "        [  6.25000000e+00,   3.90000000e-01]],\n",
       "\n",
       "       [[  1.40000000e+01,   5.60000000e+00],\n",
       "        [  1.40000000e+01,   5.45000000e+00]],\n",
       "\n",
       "       [[  7.75000000e+00,   5.00000000e-01],\n",
       "        [  7.75000000e+00,   3.90000000e-01]],\n",
       "\n",
       "       [[  1.48000000e+01,   1.34000000e+01],\n",
       "        [  1.48000000e+01,   1.35500000e+01]],\n",
       "\n",
       "       [[  1.25000000e+00,   5.00000000e-01],\n",
       "        [  1.25000000e+00,   3.90000000e-01]],\n",
       "\n",
       "       [[  1.40000000e+01,   6.80000000e+00],\n",
       "        [  1.40000000e+01,   6.65000000e+00]],\n",
       "\n",
       "       [[  7.50000000e-01,   5.00000000e-01],\n",
       "        [  7.50000000e-01,   3.90000000e-01]],\n",
       "\n",
       "       [[  1.40000000e+01,   7.40000000e+00],\n",
       "        [  1.40000000e+01,   7.25000000e+00]],\n",
       "\n",
       "       [[  6.00000000e+00,   0.00000000e+00],\n",
       "        [  6.00000000e+00,  -1.10000000e-01]],\n",
       "\n",
       "       [[  1.48000000e+01,   1.52000000e+01],\n",
       "        [  1.48000000e+01,   1.53500000e+01]],\n",
       "\n",
       "       [[  4.75000000e+00,   5.00000000e-01],\n",
       "        [  4.75000000e+00,   3.90000000e-01]],\n",
       "\n",
       "       [[  1.40000000e+01,   8.60000000e+00],\n",
       "        [  1.40000000e+01,   8.45000000e+00]],\n",
       "\n",
       "       [[  3.50000000e+00,   0.00000000e+00],\n",
       "        [  3.50000000e+00,  -1.10000000e-01]],\n",
       "\n",
       "       [[  1.48000000e+01,   1.64000000e+01],\n",
       "        [  1.48000000e+01,   1.65500000e+01]],\n",
       "\n",
       "       [[  1.50000000e+00,   0.00000000e+00],\n",
       "        [  1.50000000e+00,  -1.10000000e-01]],\n",
       "\n",
       "       [[  1.40000000e+01,   1.10000000e+01],\n",
       "        [  1.40000000e+01,   1.08500000e+01]],\n",
       "\n",
       "       [[  1.00000000e+00,   0.00000000e+00],\n",
       "        [  1.00000000e+00,  -1.10000000e-01]],\n",
       "\n",
       "       [[  1.40000000e+01,   1.16000000e+01],\n",
       "        [  1.40000000e+01,   1.14500000e+01]],\n",
       "\n",
       "       [[  2.00000000e+00,   0.00000000e+00],\n",
       "        [  2.00000000e+00,  -1.10000000e-01]],\n",
       "\n",
       "       [[  1.40000000e+01,   1.22000000e+01],\n",
       "        [  1.40000000e+01,   1.20500000e+01]],\n",
       "\n",
       "       [[  8.75000000e+00,   5.00000000e-01],\n",
       "        [  8.75000000e+00,   3.90000000e-01]],\n",
       "\n",
       "       [[  1.40000000e+01,   1.28000000e+01],\n",
       "        [  1.40000000e+01,   1.26500000e+01]],\n",
       "\n",
       "       [[  6.75000000e+00,   5.00000000e-01],\n",
       "        [  6.75000000e+00,   3.90000000e-01]],\n",
       "\n",
       "       [[  1.40000000e+01,   1.34000000e+01],\n",
       "        [  1.40000000e+01,   1.32500000e+01]],\n",
       "\n",
       "       [[  3.25000000e+00,   5.00000000e-01],\n",
       "        [  3.25000000e+00,   3.90000000e-01]],\n",
       "\n",
       "       [[  1.40000000e+01,   1.64000000e+01],\n",
       "        [  1.40000000e+01,   1.62500000e+01]],\n",
       "\n",
       "       [[  2.75000000e+00,   5.00000000e-01],\n",
       "        [  2.75000000e+00,   3.90000000e-01]],\n",
       "\n",
       "       [[  1.48000000e+01,   6.20000000e+00],\n",
       "        [  1.48000000e+01,   6.35000000e+00]],\n",
       "\n",
       "       [[  0.00000000e+00,   1.00000000e-03],\n",
       "        [  0.00000000e+00,  -1.09000000e-01]],\n",
       "\n",
       "       [[  1.48000000e+01,   6.80000000e+00],\n",
       "        [  1.48000000e+01,   6.95000000e+00]],\n",
       "\n",
       "       [[  3.75000000e+00,   5.00000000e-01],\n",
       "        [  3.75000000e+00,   3.90000000e-01]],\n",
       "\n",
       "       [[  1.48000000e+01,   8.60000000e+00],\n",
       "        [  1.48000000e+01,   8.75000000e+00]],\n",
       "\n",
       "       [[  4.50000000e+00,   0.00000000e+00],\n",
       "        [  4.50000000e+00,  -1.10000000e-01]],\n",
       "\n",
       "       [[  1.48000000e+01,   1.58000000e+01],\n",
       "        [  1.48000000e+01,   1.59500000e+01]],\n",
       "\n",
       "       [[  2.50000000e-01,   5.00000000e-01],\n",
       "        [  2.50000000e-01,   3.90000000e-01]],\n",
       "\n",
       "       [[  1.48000000e+01,   1.10000000e+01],\n",
       "        [  1.48000000e+01,   1.11500000e+01]],\n",
       "\n",
       "       [[  5.25000000e+00,   5.00000000e-01],\n",
       "        [  5.25000000e+00,   3.90000000e-01]],\n",
       "\n",
       "       [[  1.48000000e+01,   1.16000000e+01],\n",
       "        [  1.48000000e+01,   1.17500000e+01]]])"
      ]
     },
     "execution_count": 31,
     "metadata": {},
     "output_type": "execute_result"
    }
   ],
   "source": [
    "jump_lines"
   ]
  },
  {
   "cell_type": "code",
   "execution_count": 10,
   "metadata": {
    "collapsed": false
   },
   "outputs": [
    {
     "data": {
      "text/plain": [
       "[20, 21, 2, 25, 7, 28, 29, 32, 35, 16, 36]"
      ]
     },
     "execution_count": 10,
     "metadata": {},
     "output_type": "execute_result"
    }
   ],
   "source": [
    "subsequences[0]"
   ]
  },
  {
   "cell_type": "code",
   "execution_count": 22,
   "metadata": {
    "collapsed": false
   },
   "outputs": [
    {
     "data": {
      "text/plain": [
       "array([[20, 21],\n",
       "       [19, 22],\n",
       "       [17,  3],\n",
       "       [35, 26],\n",
       "       [15,  8],\n",
       "       [11, 29],\n",
       "       [29, 30],\n",
       "       [ 9, 33],\n",
       "       [ 7, 36],\n",
       "       [24, 17],\n",
       "       [ 2, 37]])"
      ]
     },
     "execution_count": 22,
     "metadata": {},
     "output_type": "execute_result"
    }
   ],
   "source": [
    "connections.values[subsequences[0]]+1"
   ]
  },
  {
   "cell_type": "code",
   "execution_count": 15,
   "metadata": {
    "collapsed": false
   },
   "outputs": [
    {
     "data": {
      "text/plain": [
       "54"
      ]
     },
     "execution_count": 15,
     "metadata": {},
     "output_type": "execute_result"
    }
   ],
   "source": [
    "len(jump_coordinates)"
   ]
  },
  {
   "cell_type": "code",
   "execution_count": 16,
   "metadata": {
    "collapsed": false
   },
   "outputs": [
    {
     "data": {
      "text/plain": [
       "54"
      ]
     },
     "execution_count": 16,
     "metadata": {},
     "output_type": "execute_result"
    }
   ],
   "source": [
    "len(jump_lines)"
   ]
  },
  {
   "cell_type": "code",
   "execution_count": 17,
   "metadata": {
    "collapsed": true
   },
   "outputs": [],
   "source": [
    "a = [1,2,3]\n",
    "b = [4,5,6]"
   ]
  },
  {
   "cell_type": "code",
   "execution_count": 18,
   "metadata": {
    "collapsed": false
   },
   "outputs": [
    {
     "ename": "ValueError",
     "evalue": "too many values to unpack",
     "output_type": "error",
     "traceback": [
      "\u001b[1;31m---------------------------------------------------------------------------\u001b[0m",
      "\u001b[1;31mValueError\u001b[0m                                Traceback (most recent call last)",
      "\u001b[1;32m<ipython-input-18-644a26d2841f>\u001b[0m in \u001b[0;36m<module>\u001b[1;34m()\u001b[0m\n\u001b[1;32m----> 1\u001b[1;33m \u001b[1;32mfor\u001b[0m \u001b[0mx\u001b[0m\u001b[1;33m,\u001b[0m\u001b[0my\u001b[0m \u001b[1;32min\u001b[0m \u001b[0ma\u001b[0m\u001b[1;33m,\u001b[0m\u001b[0mb\u001b[0m\u001b[1;33m:\u001b[0m\u001b[1;33m\u001b[0m\u001b[0m\n\u001b[0m\u001b[0;32m      2\u001b[0m     \u001b[1;32mprint\u001b[0m \u001b[0mx\u001b[0m\u001b[1;33m-\u001b[0m\u001b[0my\u001b[0m\u001b[1;33m\u001b[0m\u001b[0m\n",
      "\u001b[1;31mValueError\u001b[0m: too many values to unpack"
     ]
    }
   ],
   "source": [
    "for x,y in a,b:\n",
    "    print x-y"
   ]
  },
  {
   "cell_type": "code",
   "execution_count": 13,
   "metadata": {
    "collapsed": false
   },
   "outputs": [
    {
     "data": {
      "text/plain": [
       "[array([[[  9.5  ,   0.   ],\n",
       "         [  9.5  ,   0.   ],\n",
       "         [  9.5  ,   0.507],\n",
       "         [ 13.885,   5.15 ],\n",
       "         [ 14.8  ,   5.15 ],\n",
       "         [ 14.8  ,   5.   ]],\n",
       " \n",
       "        [[  9.   ,   0.   ],\n",
       "         [  9.   ,   0.   ],\n",
       "         [  9.   ,   0.506],\n",
       "         [ 13.884,   5.75 ],\n",
       "         [ 14.8  ,   5.75 ],\n",
       "         [ 14.8  ,   5.6  ]],\n",
       " \n",
       "        [[  8.   ,   0.   ],\n",
       "         [  8.   ,   0.   ],\n",
       "         [  8.   ,   0.519],\n",
       "         [ 13.909,   6.05 ],\n",
       "         [ 14.   ,   6.05 ],\n",
       "         [ 14.   ,   6.2  ]],\n",
       " \n",
       "        [[  7.25 ,   0.5  ],\n",
       "         [  7.25 ,   0.5  ],\n",
       "         [  7.25 ,   0.5  ],\n",
       "         [ 13.881,   8.15 ],\n",
       "         [ 14.8  ,   8.15 ],\n",
       "         [ 14.8  ,   8.   ]],\n",
       " \n",
       "        [[  7.   ,   0.   ],\n",
       "         [  7.   ,   0.   ],\n",
       "         [  7.   ,   0.511],\n",
       "         [ 14.   ,   9.05 ],\n",
       "         [ 14.   ,   9.05 ],\n",
       "         [ 14.   ,   9.2  ]],\n",
       " \n",
       "        [[  5.   ,   0.   ],\n",
       "         [  5.   ,   0.   ],\n",
       "         [  5.   ,   0.507],\n",
       "         [ 13.885,   9.95 ],\n",
       "         [ 14.8  ,   9.95 ],\n",
       "         [ 14.8  ,   9.8  ]],\n",
       " \n",
       "        [[  4.25 ,   0.5  ],\n",
       "         [  4.25 ,   0.5  ],\n",
       "         [  4.25 ,   0.5  ],\n",
       "         [ 13.886,  10.55 ],\n",
       "         [ 14.8  ,  10.55 ],\n",
       "         [ 14.8  ,  10.4  ]],\n",
       " \n",
       "        [[  4.   ,   0.   ],\n",
       "         [  4.   ,   0.   ],\n",
       "         [  4.   ,   0.514],\n",
       "         [ 13.879,  12.35 ],\n",
       "         [ 14.8  ,  12.35 ],\n",
       "         [ 14.8  ,  12.2  ]],\n",
       " \n",
       "        [[  3.   ,   0.   ],\n",
       "         [  3.   ,   0.   ],\n",
       "         [  3.   ,   0.5  ],\n",
       "         [ 13.877,  14.15 ],\n",
       "         [ 14.8  ,  14.15 ],\n",
       "         [ 14.8  ,  14.   ]],\n",
       " \n",
       "        [[  1.75 ,   0.5  ],\n",
       "         [  1.75 ,   0.5  ],\n",
       "         [  1.75 ,   0.5  ],\n",
       "         [ 13.871,  14.45 ],\n",
       "         [ 14.   ,  14.45 ],\n",
       "         [ 14.   ,  14.6  ]],\n",
       " \n",
       "        [[  0.5  ,   0.   ],\n",
       "         [  0.5  ,   0.   ],\n",
       "         [  0.5  ,   0.507],\n",
       "         [ 13.877,  14.75 ],\n",
       "         [ 14.8  ,  14.75 ],\n",
       "         [ 14.8  ,  14.6  ]]]), array([[[  9.75 ,   0.39 ],\n",
       "         [  9.75 ,   0.39 ],\n",
       "         [  9.75 ,   0.5  ],\n",
       "         [ 14.   ,   7.55 ],\n",
       "         [ 14.8  ,   7.55 ],\n",
       "         [ 14.8  ,   7.55 ]],\n",
       " \n",
       "        [[  9.25 ,   0.39 ],\n",
       "         [  9.25 ,   0.39 ],\n",
       "         [  9.25 ,   0.5  ],\n",
       "         [ 13.953,   7.85 ],\n",
       "         [ 14.   ,   7.85 ],\n",
       "         [ 14.   ,   7.85 ]],\n",
       " \n",
       "        [[  8.5  ,  -0.11 ],\n",
       "         [  8.5  ,  -0.11 ],\n",
       "         [  8.5  ,   0.5  ],\n",
       "         [ 14.   ,   9.35 ],\n",
       "         [ 14.8  ,   9.35 ],\n",
       "         [ 14.8  ,   9.35 ]],\n",
       " \n",
       "        [[  8.25 ,   0.39 ],\n",
       "         [  8.25 ,   0.39 ],\n",
       "         [  8.25 ,   0.5  ],\n",
       "         [ 13.951,   9.65 ],\n",
       "         [ 14.   ,   9.65 ],\n",
       "         [ 14.   ,   9.65 ]],\n",
       " \n",
       "        [[  7.5  ,  -0.11 ],\n",
       "         [  7.5  ,  -0.11 ],\n",
       "         [  7.5  ,   0.5  ],\n",
       "         [ 14.   ,  10.25 ],\n",
       "         [ 14.   ,  10.25 ],\n",
       "         [ 14.   ,  10.25 ]],\n",
       " \n",
       "        [[  6.5  ,  -0.11 ],\n",
       "         [  6.5  ,  -0.11 ],\n",
       "         [  6.5  ,   0.5  ],\n",
       "         [ 14.   ,  12.95 ],\n",
       "         [ 14.8  ,  12.95 ],\n",
       "         [ 14.8  ,  12.95 ]],\n",
       " \n",
       "        [[  5.75 ,   0.39 ],\n",
       "         [  5.75 ,   0.39 ],\n",
       "         [  5.75 ,   0.5  ],\n",
       "         [ 14.   ,  13.85 ],\n",
       "         [ 14.   ,  13.85 ],\n",
       "         [ 14.   ,  13.85 ]],\n",
       " \n",
       "        [[  2.5  ,  -0.11 ],\n",
       "         [  2.5  ,  -0.11 ],\n",
       "         [  2.5  ,   0.5  ],\n",
       "         [ 14.   ,  15.05 ],\n",
       "         [ 14.   ,  15.05 ],\n",
       "         [ 14.   ,  15.05 ]],\n",
       " \n",
       "        [[  2.25 ,   0.39 ],\n",
       "         [  2.25 ,   0.39 ],\n",
       "         [  2.25 ,   0.505],\n",
       "         [ 14.   ,  15.65 ],\n",
       "         [ 14.   ,  15.65 ],\n",
       "         [ 14.   ,  15.65 ]]]), array([[[  5.5 ,  -0.11],\n",
       "         [  5.5 ,  -0.11],\n",
       "         [  5.5 ,   0.5 ],\n",
       "         [ 14.  ,   4.85],\n",
       "         [ 14.  ,   4.85],\n",
       "         [ 14.  ,   4.85]],\n",
       " \n",
       "        [[  2.75,   0.39],\n",
       "         [  2.75,   0.39],\n",
       "         [  2.75,   0.5 ],\n",
       "         [ 14.  ,   6.35],\n",
       "         [ 14.8 ,   6.35],\n",
       "         [ 14.8 ,   6.35]],\n",
       " \n",
       "        [[  1.25,   0.39],\n",
       "         [  1.25,   0.39],\n",
       "         [  1.25,   0.5 ],\n",
       "         [ 14.  ,   6.65],\n",
       "         [ 14.  ,   6.65],\n",
       "         [ 14.  ,   6.65]],\n",
       " \n",
       "        [[  0.75,   0.39],\n",
       "         [  0.75,   0.39],\n",
       "         [  0.75,   0.5 ],\n",
       "         [ 14.  ,   7.25],\n",
       "         [ 14.  ,   7.25],\n",
       "         [ 14.  ,   7.25]],\n",
       " \n",
       "        [[  0.25,   0.39],\n",
       "         [  0.25,   0.39],\n",
       "         [  0.25,   0.5 ],\n",
       "         [ 14.  ,  11.15],\n",
       "         [ 14.8 ,  11.15],\n",
       "         [ 14.8 ,  11.15]]]), array([[[  6.25,   0.39],\n",
       "         [  6.25,   0.39],\n",
       "         [  6.25,   0.5 ],\n",
       "         [ 14.  ,   5.45],\n",
       "         [ 14.  ,   5.45],\n",
       "         [ 14.  ,   5.45]],\n",
       " \n",
       "        [[  4.75,   0.39],\n",
       "         [  4.75,   0.39],\n",
       "         [  4.75,   0.5 ],\n",
       "         [ 14.  ,   8.45],\n",
       "         [ 14.  ,   8.45],\n",
       "         [ 14.  ,   8.45]],\n",
       " \n",
       "        [[  3.75,   0.39],\n",
       "         [  3.75,   0.39],\n",
       "         [  3.75,   0.5 ],\n",
       "         [ 14.  ,   8.75],\n",
       "         [ 14.8 ,   8.75],\n",
       "         [ 14.8 ,   8.75]],\n",
       " \n",
       "        [[  1.5 ,  -0.11],\n",
       "         [  1.5 ,  -0.11],\n",
       "         [  1.5 ,   0.5 ],\n",
       "         [ 14.  ,  10.85],\n",
       "         [ 14.  ,  10.85],\n",
       "         [ 14.  ,  10.85]],\n",
       " \n",
       "        [[  1.  ,  -0.11],\n",
       "         [  1.  ,  -0.11],\n",
       "         [  1.  ,   0.5 ],\n",
       "         [ 14.  ,  11.45],\n",
       "         [ 14.  ,  11.45],\n",
       "         [ 14.  ,  11.45]]])]"
      ]
     },
     "execution_count": 13,
     "metadata": {},
     "output_type": "execute_result"
    }
   ],
   "source": [
    "int_lines_list"
   ]
  },
  {
   "cell_type": "code",
   "execution_count": 13,
   "metadata": {
    "collapsed": false
   },
   "outputs": [
    {
     "name": "stdout",
     "output_type": "stream",
     "text": [
      "POLY 6, 1\n",
      "1,7; 14,65\n",
      "14,0; 14,65\n",
      "14,0; 14,55\n",
      "1,8; 14,55\n",
      "1,8; 0,5\n",
      "1,7; 0,5\n"
     ]
    }
   ],
   "source": [
    "submit([np.array([[[  1.75 ,   0.5  ],\n",
    "         [  1.75 ,   14.6  ],\n",
    "         [ 14.   ,  14.6  ]]])],\n",
    "      [],[],[])"
   ]
  },
  {
   "cell_type": "code",
   "execution_count": 11,
   "metadata": {
    "collapsed": false
   },
   "outputs": [
    {
     "data": {
      "text/plain": [
       "<matplotlib.collections.PathCollection at 0x7eff61069e10>"
      ]
     },
     "execution_count": 11,
     "metadata": {},
     "output_type": "execute_result"
    },
    {
     "data": {
      "image/png": "[encoded data removed]",
      "text/plain": [
       "<matplotlib.figure.Figure at 0x7eff6113c8d0>"
      ]
     },
     "metadata": {},
     "output_type": "display_data"
    }
   ],
   "source": [
    "plot_all_lines(np.array([[[  1.75 ,   0.5  ],\n",
    "         [  1.75 ,   14.6  ],\n",
    "         [ 14.   ,  14.6  ]]]), 0.05)\n",
    "plt.scatter(chip_1.values.T[0], chip_1.values.T[1])\n",
    "plt.scatter(chip_2.values.T[0], chip_2.values.T[1])"
   ]
  },
  {
   "cell_type": "code",
   "execution_count": 12,
   "metadata": {
    "collapsed": false
   },
   "outputs": [
    {
     "data": {
      "text/plain": [
       "(     0   1\n",
       " 0   11   0\n",
       " 1   32   1\n",
       " 2   16   2\n",
       " 3   22   3\n",
       " 4   21   4\n",
       " 5   38   5\n",
       " 6   29   6\n",
       " 7   14   7\n",
       " 8   36   8\n",
       " 9   15   9\n",
       " 10   3  10\n",
       " 11   2  11\n",
       " 12   4  12\n",
       " 13  37  13\n",
       " 14  33  14\n",
       " 15  31  15\n",
       " 16  23  16\n",
       " 17   5  17\n",
       " 18  24  18\n",
       " 19  26  19\n",
       " 20  19  20\n",
       " 21  18  21\n",
       " 22  25  22\n",
       " 23   0  23\n",
       " 24  39  24\n",
       " 25  34  25\n",
       " 26  27  26\n",
       " 27  17  27\n",
       " 28  10  28\n",
       " 29  28  29\n",
       " 30  20  30\n",
       " 31  30  31\n",
       " 32   8  32\n",
       " 33  13  33\n",
       " 34  35  34\n",
       " 35   6  35\n",
       " 36   1  36\n",
       " 37  12  37\n",
       " 38   9  38\n",
       " 39   7  39,\n",
       " [[20, 21, 2, 25, 7, 28, 29, 32, 35, 16, 36],\n",
       "  [24, 5, 27, 8, 9, 33, 15, 17, 18],\n",
       "  [0, 22, 3, 4, 30],\n",
       "  [1, 6, 26, 10, 11],\n",
       "  [13, 14, 37, 38, 19],\n",
       "  [31, 12],\n",
       "  [34, 39],\n",
       "  [23]])"
      ]
     },
     "execution_count": 12,
     "metadata": {},
     "output_type": "execute_result"
    }
   ],
   "source": [
    "connections, subsequences"
   ]
  },
  {
   "cell_type": "code",
   "execution_count": 75,
   "metadata": {
    "collapsed": false
   },
   "outputs": [
    {
     "data": {
      "text/plain": [
       "[[2.5, -0.11], [14.0, 15.049999999999999]]"
      ]
     },
     "execution_count": 75,
     "metadata": {},
     "output_type": "execute_result"
    }
   ],
   "source": [
    "jump_coordinates[28:30]"
   ]
  },
  {
   "cell_type": "code",
   "execution_count": 78,
   "metadata": {
    "collapsed": false
   },
   "outputs": [
    {
     "data": {
      "text/plain": [
       "array([[[  2.5 ,   0.  ],\n",
       "        [  2.5 ,  -0.11]],\n",
       "\n",
       "       [[ 14.  ,  15.2 ],\n",
       "        [ 14.  ,  15.05]]])"
      ]
     },
     "execution_count": 78,
     "metadata": {},
     "output_type": "execute_result"
    }
   ],
   "source": [
    "jump_lines[28:30]"
   ]
  },
  {
   "cell_type": "code",
   "execution_count": 114,
   "metadata": {
    "collapsed": false
   },
   "outputs": [
    {
     "data": {
      "text/plain": [
       "True"
      ]
     },
     "execution_count": 114,
     "metadata": {},
     "output_type": "execute_result"
    }
   ],
   "source": [
    "line_to_poly(jump_lines[29]).intersects(Point(jump_coordinates[29]))"
   ]
  },
  {
   "cell_type": "code",
   "execution_count": 8,
   "metadata": {
    "collapsed": true
   },
   "outputs": [],
   "source": [
    "submit([np.array([]), np.array([int_lines_list[1][7]])], [], jump_lines[28:30], jump_coordinates[28:30])"
   ]
  },
  {
   "cell_type": "code",
   "execution_count": 31,
   "metadata": {
    "collapsed": false
   },
   "outputs": [],
   "source": [
    "a = range(-1,5)"
   ]
  },
  {
   "cell_type": "code",
   "execution_count": 44,
   "metadata": {
    "collapsed": false
   },
   "outputs": [
    {
     "data": {
      "text/plain": [
       "[-1, 0, 1, 2, 3, 4]"
      ]
     },
     "execution_count": 44,
     "metadata": {},
     "output_type": "execute_result"
    }
   ],
   "source": [
    "a[0:]"
   ]
  },
  {
   "cell_type": "code",
   "execution_count": 59,
   "metadata": {
    "collapsed": false
   },
   "outputs": [
    {
     "data": {
      "text/plain": [
       "numpy.ndarray"
      ]
     },
     "execution_count": 59,
     "metadata": {},
     "output_type": "execute_result"
    }
   ],
   "source": [
    "type(internal)"
   ]
  },
  {
   "cell_type": "code",
   "execution_count": 63,
   "metadata": {
    "collapsed": false
   },
   "outputs": [
    {
     "data": {
      "text/plain": [
       "(8, 2)"
      ]
     },
     "execution_count": 63,
     "metadata": {},
     "output_type": "execute_result"
    }
   ],
   "source": [
    "external[0].shape"
   ]
  },
  {
   "cell_type": "code",
   "execution_count": 64,
   "metadata": {
    "collapsed": false
   },
   "outputs": [
    {
     "data": {
      "text/plain": [
       "0.0"
      ]
     },
     "execution_count": 64,
     "metadata": {},
     "output_type": "execute_result"
    }
   ],
   "source": [
    "sum_length([])"
   ]
  },
  {
   "cell_type": "code",
   "execution_count": null,
   "metadata": {
    "collapsed": true
   },
   "outputs": [],
   "source": []
  }
 ],
 "metadata": {
  "kernelspec": {
   "display_name": "Python 2",
   "language": "python",
   "name": "python2"
  },
  "language_info": {
   "codemirror_mode": {
    "name": "ipython",
    "version": 2
   },
   "file_extension": ".py",
   "mimetype": "text/x-python",
   "name": "python",
   "nbconvert_exporter": "python",
   "pygments_lexer": "ipython2",
   "version": "2.7.10"
  }
 },
 "nbformat": 4,
 "nbformat_minor": 0
}
