{
 "cells": [
  {
   "cell_type": "code",
   "execution_count": 1,
   "metadata": {
    "collapsed": true
   },
   "outputs": [],
   "source": [
    "import shapely\n",
    "from shapely.geometry import LineString"
   ]
  },
  {
   "cell_type": "code",
   "execution_count": 4,
   "metadata": {
    "collapsed": false
   },
   "outputs": [],
   "source": [
    "#shapely experiments\n",
    "line = LineString([(0,0), (0,1), (1, 1)])"
   ]
  },
  {
   "cell_type": "code",
   "execution_count": 5,
   "metadata": {
    "collapsed": false
   },
   "outputs": [
    {
     "data": {
      "image/svg+xml": [
       "<svg xmlns=\"http://www.w3.org/2000/svg\" xmlns:xlink=\"http://www.w3.org/1999/xlink\" width=\"100.0\" height=\"100.0\" viewBox=\"-0.148 -0.148 1.296 1.296\" preserveAspectRatio=\"xMinYMin meet\"><g transform=\"matrix(1,0,0,-1,0,1.0)\"><path fill-rule=\"evenodd\" fill=\"#66cc99\" stroke=\"#555555\" stroke-width=\"0.02592\" opacity=\"0.6\" d=\"M -0.1,1.0 L -0.0995184726672,1.00980171403 L -0.0980785280403,1.0195090322 L -0.0956940335732,1.02902846773 L -0.0923879532511,1.03826834324 L -0.0881921264348,1.04713967368 L -0.0831469612303,1.0555570233 L -0.0773010453363,1.06343932842 L -0.0707106781187,1.07071067812 L -0.0634393284164,1.07730104534 L -0.055557023302,1.08314696123 L -0.0471396736826,1.08819212643 L -0.0382683432365,1.09238795325 L -0.0290284677254,1.09569403357 L -0.0195090322016,1.09807852804 L -0.00980171403296,1.09951847267 L 0.0,1.1 L 1.0,1.1 L 1.1,1.1 L 1.1,0.9 L 0.1,0.9 L 0.1,0.0 L 0.1,-0.1 L -0.1,-0.1 L -0.1,1.0 z\" /></g></svg>"
      ],
      "text/plain": [
       "<shapely.geometry.polygon.Polygon at 0x7f21653e9810>"
      ]
     },
     "execution_count": 5,
     "metadata": {},
     "output_type": "execute_result"
    }
   ],
   "source": [
    "line.buffer(0.1, cap_style=3)"
   ]
  },
  {
   "cell_type": "code",
   "execution_count": 6,
   "metadata": {
    "collapsed": false
   },
   "outputs": [
    {
     "name": "stdout",
     "output_type": "stream",
     "text": [
      "0.437841371226\n"
     ]
    }
   ],
   "source": [
    "print line.buffer(0.1, cap_style=3).area"
   ]
  }
 ],
 "metadata": {
  "kernelspec": {
   "display_name": "Python 2",
   "language": "python",
   "name": "python2"
  },
  "language_info": {
   "codemirror_mode": {
    "name": "ipython",
    "version": 2
   },
   "file_extension": ".py",
   "mimetype": "text/x-python",
   "name": "python",
   "nbconvert_exporter": "python",
   "pygments_lexer": "ipython2",
   "version": "2.7.11"
  }
 },
 "nbformat": 4,
 "nbformat_minor": 0
}
